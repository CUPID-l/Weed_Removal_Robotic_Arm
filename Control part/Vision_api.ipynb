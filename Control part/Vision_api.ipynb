{
 "cells": [
  {
   "cell_type": "code",
   "execution_count": 1,
   "metadata": {},
   "outputs": [],
   "source": [
    "import os\n",
    "\n",
    "from groq import Groq\n",
    "\n",
    "import json\n",
    "\n",
    "import base64\n",
    "\n",
    "import cv2"
   ]
  },
  {
   "cell_type": "markdown",
   "metadata": {},
   "source": [
    "Capture Image"
   ]
  },
  {
   "cell_type": "code",
   "execution_count": 2,
   "metadata": {},
   "outputs": [
    {
     "name": "stdout",
     "output_type": "stream",
     "text": [
      "Click on the object in the video window to get pixel coordinates and save the image.\n",
      "Clicked at pixel coordinates: x = 1078, y = 405\n",
      "Image saved as 'apiimg.jpeg'.\n"
     ]
    }
   ],
   "source": [
    "# List to store clicked coordinates\n",
    "Coords = []\n",
    "\n",
    "# Callback function to handle mouse click\n",
    "def mouse_click(event, x, y, flags, param):\n",
    "    if event == cv2.EVENT_LBUTTONDOWN:\n",
    "        print(f\"Clicked at pixel coordinates: x = {x}, y = {y}\")\n",
    "        Coords.append((x, y))\n",
    "        cv2.imwrite(\"apiimg.jpeg\", param['frame'])\n",
    "        print(\"Image saved as 'apiimg.jpeg'.\")\n",
    "\n",
    "# Initialize webcam\n",
    "cap = cv2.VideoCapture(1)  # Change camera index if needed\n",
    "\n",
    "# Set mouse callback\n",
    "cv2.namedWindow(\"Webcam Feed\")\n",
    "\n",
    "print(\"Click on the object in the video window to get pixel coordinates and save the image.\")\n",
    "\n",
    "while True:\n",
    "    ret, frame = cap.read()\n",
    "    if not ret:\n",
    "        print(\"Failed to capture frame from webcam.\")\n",
    "        break\n",
    "\n",
    "    # Set mouse callback on every fresh frame\n",
    "    cv2.setMouseCallback(\"Webcam Feed\", mouse_click, param={'frame': frame.copy()})\n",
    "\n",
    "    cv2.imshow(\"Webcam Feed\", frame)\n",
    "\n",
    "    key = cv2.waitKey(1)\n",
    "    if key == 27:  # ESC to exit\n",
    "        break\n",
    "\n",
    "cap.release()\n",
    "cv2.destroyAllWindows()\n"
   ]
  },
  {
   "cell_type": "code",
   "execution_count": 3,
   "metadata": {},
   "outputs": [],
   "source": [
    "prompt = \"\"\"\n",
    "Detect and return the centroid coordinates (in pixels) for each colored cube in the image.\n",
    "\n",
    "Please return the results in the following JSON format:\n",
    "\n",
    "[\n",
    "  {\n",
    "    \"color\": \"box1\",\n",
    "    \"centroid\": {\n",
    "      \"x\": 145,\n",
    "      \"y\": 105\n",
    "    }\n",
    "  },\n",
    "  {\n",
    "    \"color\": \"box2\",\n",
    "    \"centroid\": {\n",
    "      \"x\": 224,\n",
    "      \"y\": 156\n",
    "    }\n",
    "  }\n",
    "]\n",
    "\n",
    "Only respond with the JSON and no additional explanation.\n",
    "\"\"\""
   ]
  },
  {
   "cell_type": "markdown",
   "metadata": {},
   "source": [
    "Encode images"
   ]
  },
  {
   "cell_type": "code",
   "execution_count": 4,
   "metadata": {},
   "outputs": [],
   "source": [
    "def encode_image(image_path):\n",
    "  with open(image_path, \"rb\") as image_file:\n",
    "    return base64.b64encode(image_file.read()).decode('utf-8')"
   ]
  },
  {
   "cell_type": "code",
   "execution_count": 5,
   "metadata": {},
   "outputs": [],
   "source": [
    "image_path = \"apiimg.jpeg\""
   ]
  },
  {
   "cell_type": "code",
   "execution_count": 6,
   "metadata": {},
   "outputs": [],
   "source": [
    "base64_image = encode_image(image_path)"
   ]
  },
  {
   "cell_type": "code",
   "execution_count": 7,
   "metadata": {},
   "outputs": [
    {
     "name": "stdout",
     "output_type": "stream",
     "text": [
      "[\n",
      " {\n",
      " \"color\": \"red\",\n",
      " \"centroid\": {\n",
      " \"x\":532,\n",
      " \"y\":171\n",
      " }\n",
      " },\n",
      " {\n",
      " \"color\": \"yellow\",\n",
      " \"centroid\": {\n",
      " \"x\":600,\n",
      " \"y\":173\n",
      " }\n",
      " },\n",
      " {\n",
      " \"color\": \"blue\",\n",
      " \"centroid\": {\n",
      " \"x\":465,\n",
      " \"y\":275\n",
      " }\n",
      " },\n",
      " {\n",
      " \"color\": \"green\",\n",
      " \"centroid\": {\n",
      " \"x\":516,\n",
      " \"y\":384\n",
      " }\n",
      " }\n",
      "]\n"
     ]
    }
   ],
   "source": [
    "client = Groq(\n",
    "    api_key=\"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\"\n",
    ")\n",
    "\n",
    "completion = client.chat.completions.create(\n",
    "    model=\"meta-llama/llama-4-scout-17b-16e-instruct\",\n",
    "    messages=[\n",
    "        {\n",
    "            \"role\": \"user\",\n",
    "            \"content\": [\n",
    "                {\n",
    "                    \"type\": \"text\",\n",
    "                    \"text\": prompt\n",
    "                },\n",
    "                {\n",
    "                    \"type\": \"image_url\",\n",
    "                    \"image_url\": {\n",
    "                        \"url\": f\"data:image/jpeg;base64,{base64_image}\",\n",
    "                    }\n",
    "                }\n",
    "            ]\n",
    "        }\n",
    "    ],\n",
    "    temperature=1,\n",
    "    max_completion_tokens=1024,\n",
    "    top_p=1,\n",
    "    stream=False,\n",
    "    stop=None,\n",
    ")\n",
    "\n",
    "with open(\"output.json\", \"w\") as outfile:\n",
    "    json.dump(completion.model_dump(), outfile, indent=2)\n",
    "\n",
    "# Also print just the assistant's reply\n",
    "print(completion.choices[0].message.content)"
   ]
  },
  {
   "cell_type": "markdown",
   "metadata": {},
   "source": [
    "export GROQ_API_KEY=<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>\n"
   ]
  }
 ],
 "metadata": {
  "kernelspec": {
   "display_name": "Python 3",
   "language": "python",
   "name": "python3"
  },
  "language_info": {
   "codemirror_mode": {
    "name": "ipython",
    "version": 3
   },
   "file_extension": ".py",
   "mimetype": "text/x-python",
   "name": "python",
   "nbconvert_exporter": "python",
   "pygments_lexer": "ipython3",
   "version": "3.12.2"
  }
 },
 "nbformat": 4,
 "nbformat_minor": 2
}
