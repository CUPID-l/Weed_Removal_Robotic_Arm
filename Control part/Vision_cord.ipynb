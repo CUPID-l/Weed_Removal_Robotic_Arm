{
  "cells": [
    {
      "cell_type": "code",
      "execution_count": 8,
      "metadata": {},
      "outputs": [],
      "source": [
        "import numpy as np\n",
        "import matplotlib.pyplot as plt\n",
        "from sklearn.linear_model import LinearRegression\n",
        "import cv2\n",
        "import pickle"
      ]
    },
    {
      "cell_type": "code",
      "execution_count": 9,
      "metadata": {},
      "outputs": [],
      "source": [
        "# List to store coordinates\n",
        "\n",
        "camera_pixel_coords_list = []\n"
      ]
    },
    {
      "cell_type": "markdown",
      "metadata": {},
      "source": [
        "# Change list name when calibrating\n"
      ]
    },
    {
      "cell_type": "code",
      "execution_count": 10,
      "metadata": {},
      "outputs": [
        {
          "name": "stdout",
          "output_type": "stream",
          "text": [
            "Click on the object in the video window to get pixel coordinates. Press ESC to exit.\n",
            "Clicked at pixel coordinates: x = 799, y = 170\n",
            "Clicked at pixel coordinates: x = 1041, y = 199\n",
            "Clicked at pixel coordinates: x = 906, y = 269\n",
            "Clicked at pixel coordinates: x = 1174, y = 263\n",
            "Clicked at pixel coordinates: x = 857, y = 367\n",
            "Clicked at pixel coordinates: x = 1044, y = 400\n",
            "Clicked at pixel coordinates: x = 1014, y = 425\n",
            "Clicked at pixel coordinates: x = 911, y = 529\n",
            "Clicked at pixel coordinates: x = 1181, y = 528\n",
            "Clicked at pixel coordinates: x = 878, y = 604\n",
            "Clicked at pixel coordinates: x = 1046, y = 599\n",
            "Clicked at pixel coordinates: x = 1124, y = 102\n",
            "Clicked at pixel coordinates: x = 939, y = 95\n",
            "Clicked at pixel coordinates: x = 1158, y = 233\n",
            "Clicked at pixel coordinates: x = 991, y = 305\n",
            "Clicked at pixel coordinates: x = 1100, y = 370\n",
            "Clicked at pixel coordinates: x = 1212, y = 510\n",
            "Clicked at pixel coordinates: x = 1092, y = 563\n",
            "Clicked at pixel coordinates: x = 978, y = 523\n",
            "Clicked at pixel coordinates: x = 788, y = 464\n",
            "Clicked at pixel coordinates: x = 767, y = 286\n",
            "Collected Pixel Coordinates:\n",
            "[[ 799  170]\n",
            " [1041  199]\n",
            " [ 906  269]\n",
            " [1174  263]\n",
            " [ 857  367]\n",
            " [1044  400]\n",
            " [1014  425]\n",
            " [ 911  529]\n",
            " [1181  528]\n",
            " [ 878  604]\n",
            " [1046  599]\n",
            " [1124  102]\n",
            " [ 939   95]\n",
            " [1158  233]\n",
            " [ 991  305]\n",
            " [1100  370]\n",
            " [1212  510]\n",
            " [1092  563]\n",
            " [ 978  523]\n",
            " [ 788  464]\n",
            " [ 767  286]]\n"
          ]
        }
      ],
      "source": [
        "\n",
        "# Callback function to handle mouse click\n",
        "def mouse_click(event, x, y, flags, param):\n",
        "    if event == cv2.EVENT_LBUTTONDOWN:\n",
        "        print(f\"Clicked at pixel coordinates: x = {x}, y = {y}\")\n",
        "        camera_pixel_coords_list.append([x, y])\n",
        "\n",
        "# Initialize webcam\n",
        "cap = cv2.VideoCapture(1)  # Change to the correct camera index if needed\n",
        "\n",
        "# Set mouse callback\n",
        "cv2.namedWindow(\"Webcam Feed\")\n",
        "cv2.setMouseCallback(\"Webcam Feed\", mouse_click)\n",
        "\n",
        "print(\"Click on the object in the video window to get pixel coordinates. Press ESC to exit.\")\n",
        "\n",
        "while True:\n",
        "    ret, frame = cap.read()\n",
        "    if not ret:\n",
        "        print(\"Failed to capture frame from webcam.\")\n",
        "        break\n",
        "\n",
        "    cv2.imshow(\"Webcam Feed\", frame)\n",
        "\n",
        "    key = cv2.waitKey(1)\n",
        "    if key == 27:  # ESC to exit\n",
        "        break\n",
        "\n",
        "cap.release()\n",
        "cv2.destroyAllWindows()\n",
        "\n",
        "# Convert to NumPy array\n",
        "camera_pixel_coords = np.array(camera_pixel_coords_list)\n",
        "print(\"Collected Pixel Coordinates:\")\n",
        "print(camera_pixel_coords)\n"
      ]
    },
    {
      "cell_type": "code",
      "execution_count": 11,
      "metadata": {},
      "outputs": [
        {
          "name": "stdout",
          "output_type": "stream",
          "text": [
            "[[799, 170], [1041, 199], [906, 269], [1174, 263], [857, 367], [1044, 400], [1014, 425], [911, 529], [1181, 528], [878, 604], [1046, 599], [1124, 102], [939, 95], [1158, 233], [991, 305], [1100, 370], [1212, 510], [1092, 563], [978, 523], [788, 464], [767, 286]]\n"
          ]
        }
      ],
      "source": [
        "print(camera_pixel_coords_list)"
      ]
    },
    {
      "cell_type": "code",
      "execution_count": 12,
      "metadata": {
        "id": "kMus9gnkJRhW"
      },
      "outputs": [],
      "source": [
        "robot_coordinates = np.array([[393.6,-47.6], [245.8,-29.9], [325.3,11.4], [164.9,7.9], [356.9,73.4], [244.5,92.9], [262.6,107.8], [323.9,170.4], [164.6,168.5], [343.1,215.1], [243.9,212.2],[198.2,-89.7],[313,-95.1],[181,-7.5],[278.4,35.7],[213.2,74.8],[152,159.8],[222.3,192.8],[291.9,166.9],[397.1,132.2],[413.1,28.3]])"
      ]
    },
    {
      "cell_type": "markdown",
      "metadata": {},
      "source": [
        "# Least square regression"
      ]
    },
    {
      "cell_type": "code",
      "execution_count": 13,
      "metadata": {},
      "outputs": [
        {
          "name": "stdout",
          "output_type": "stream",
          "text": [
            "robot_x = -0.5925 * camera_x + 865.3659\n",
            "robot_y = 0.6077 * camera_y + -150.5850\n"
          ]
        }
      ],
      "source": [
        "camera_pixel_coords = np.array(camera_pixel_coords_list)\n",
        "robot_coordinates = np.array(robot_coordinates)\n",
        "\n",
        "camera_x = camera_pixel_coords[:, 0]\n",
        "camera_y = camera_pixel_coords[:, 1]\n",
        "robot_x = robot_coordinates[:, 0]\n",
        "robot_y = robot_coordinates[:, 1]\n",
        "\n",
        "A_x = np.vstack([camera_x, np.ones(len(camera_x))]).T\n",
        "theta_x = np.linalg.pinv(A_x) @ robot_x\n",
        "m1, c1 = theta_x    \n",
        "\n",
        "A_y = np.vstack([camera_y, np.ones(len(camera_y))]).T\n",
        "theta_y = np.linalg.pinv(A_y) @ robot_y\n",
        "m2, c2 = theta_y\n",
        "\n",
        "print(f\"robot_x = {m1:.4f} * camera_x + {c1:.4f}\")\n",
        "print(f\"robot_y = {m2:.4f} * camera_y + {c2:.4f}\")"
      ]
    },
    {
      "cell_type": "markdown",
      "metadata": {},
      "source": [
        "## Calculating predicted Coordinates for the arm"
      ]
    },
    {
      "cell_type": "code",
      "execution_count": 14,
      "metadata": {},
      "outputs": [],
      "source": [
        "def mapped_coordinates(x, y, m1, c1, m2, c2):\n",
        "    robot_x = m1 * x + c1\n",
        "    robot_y = m2 * y + c2\n",
        "    return robot_x, robot_y"
      ]
    },
    {
      "cell_type": "markdown",
      "metadata": {
        "id": "Y85VNhiYOWIq"
      },
      "source": [
        "![image.png](data:image/png;base64,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)"
      ]
    },
    {
      "cell_type": "markdown",
      "metadata": {},
      "source": [
        "## Normalisation"
      ]
    },
    {
      "cell_type": "code",
      "execution_count": 17,
      "metadata": {},
      "outputs": [],
      "source": [
        "h=1920\n",
        "b=1080"
      ]
    },
    {
      "cell_type": "code",
      "execution_count": 15,
      "metadata": {},
      "outputs": [],
      "source": [
        "norm_x = ((532)/1000)*h\n",
        "norm_y = ((171)/1000)*b"
      ]
    },
    {
      "cell_type": "code",
      "execution_count": 18,
      "metadata": {
        "colab": {
          "base_uri": "https://localhost:8080/"
        },
        "id": "n6NsHBfhO4h_",
        "outputId": "e7f20cfa-9f51-40bc-f06b-4b7b4f0d0dae"
      },
      "outputs": [
        {
          "name": "stdout",
          "output_type": "stream",
          "text": [
            "260.1197065090886 -38.352730139522166\n"
          ]
        }
      ],
      "source": [
        "robot_x, robot_y = mapped_coordinates(norm_x,norm_y,m1,c1, m2, c2)\n",
        "print(robot_x, robot_y)"
      ]
    },
    {
      "cell_type": "markdown",
      "metadata": {},
      "source": [
        "## Plot  (actual vs predicted)"
      ]
    },
    {
      "cell_type": "code",
      "execution_count": null,
      "metadata": {},
      "outputs": [],
      "source": [
        "import pandas as pd\n",
        "import matplotlib.pyplot as plt\n",
        "\n",
        "# Load the CSV file\n",
        "df = pd.read_csv('regression.csv')  # Change this to your actual file name\n",
        "\n",
        "# Extract all m and c values into a list\n",
        "m_values = []\n",
        "c_values = []\n",
        "\n",
        "for col in df.columns:\n",
        "    if col.startswith('m'):\n",
        "        m_values.extend(df[col].tolist())\n",
        "    elif col.startswith('c'):\n",
        "        c_values.extend(df[col].tolist())\n",
        "\n",
        "# Plotting\n",
        "plt.figure(figsize=(10, 6))\n",
        "plt.plot(m_values, label='m values', marker='o')\n",
        "plt.plot(c_values, label='c values', marker='x')\n",
        "plt.title('Regression Coefficients: m and c values')\n",
        "plt.xlabel('Index')\n",
        "plt.ylabel('Value')\n",
        "plt.legend()\n",
        "plt.grid(True)\n",
        "plt.tight_layout()\n",
        "plt.show()"
      ]
    }
  ],
  "metadata": {
    "accelerator": "GPU",
    "colab": {
      "gpuType": "T4",
      "provenance": []
    },
    "kernelspec": {
      "display_name": "Python 3",
      "name": "python3"
    },
    "language_info": {
      "codemirror_mode": {
        "name": "ipython",
        "version": 3
      },
      "file_extension": ".py",
      "mimetype": "text/x-python",
      "name": "python",
      "nbconvert_exporter": "python",
      "pygments_lexer": "ipython3",
      "version": "3.12.2"
    }
  },
  "nbformat": 4,
  "nbformat_minor": 0
}
