{
 "cells": [
  {
   "cell_type": "code",
   "execution_count": 1,
   "metadata": {},
   "outputs": [
    {
     "name": "stdout",
     "output_type": "stream",
     "text": [
      "SDK_VERSION: 1.15.0\n"
     ]
    }
   ],
   "source": [
    "import cv2\n",
    "\n",
    "import numpy as np\n",
    "\n",
    "from xarm.wrapper import XArmAPI\n",
    "\n",
    "import json\n",
    "\n",
    "import pickle\n"
   ]
  },
  {
   "cell_type": "markdown",
   "metadata": {},
   "source": [
    "Setup"
   ]
  },
  {
   "cell_type": "code",
   "execution_count": 9,
   "metadata": {},
   "outputs": [
    {
     "name": "stdout",
     "output_type": "stream",
     "text": [
      "ROBOT_IP: 192.168.1.155, VERSION: v2.2.0, PROTOCOL: V1, DETAIL: 6,9,LI1006,DL1000,v2.2.0, TYPE1300: [0, 0]\n",
      "change protocol identifier to 3\n"
     ]
    },
    {
     "data": {
      "text/plain": [
       "0"
      ]
     },
     "execution_count": 9,
     "metadata": {},
     "output_type": "execute_result"
    }
   ],
   "source": [
    "arm = XArmAPI('192.168.1.155')\n",
    "\n",
    "arm.motion_enable(enable=True)\n",
    "\n",
    "arm.set_mode(0)\n",
    "\n",
    "arm.set_state(0)\n",
    "\n",
    "arm.connect()\n",
    "\n",
    "arm.move_gohome()"
   ]
  },
  {
   "cell_type": "code",
   "execution_count": null,
   "metadata": {},
   "outputs": [],
   "source": [
    "import time\n",
    "def pick_up_and_drop(x_robot, y_robot, z, box_x, box_y):\n",
    "    arm.set_position(x_robot, y_robot, 70, speed=100)  \n",
    "    arm.set_position(x_robot, y_robot, z, speed=100, wait=True)  \n",
    "    arm.set_suction_cup(False)\n",
    "    time.sleep(1)\n",
    "    # arm.set_position(x_robot, y_robot, 16.5, wait=True)  \n",
    "    arm.set_position(x_robot, y_robot, 70, speed=100, wait=True)  \n",
    "    arm.set_position(box_x, box_y, 200, speed=100)\n",
    "    arm.set_position(box_x, box_y, 100, speed=100)\n",
    "    arm.set_suction_cup(True)\n",
    "    arm.set_position(box_x, box_y, 200, speed=100)"
   ]
  },
  {
   "cell_type": "markdown",
   "metadata": {},
   "source": [
    "load trained model"
   ]
  },
  {
   "cell_type": "code",
   "execution_count": 11,
   "metadata": {},
   "outputs": [],
   "source": [
    "def mapped_coordinates(x, y, m1, c1, m2, c2):\n",
    "    robot_x = m1 * x + c1\n",
    "    robot_y = m2 * y + c2\n",
    "    return robot_x, robot_y"
   ]
  },
  {
   "cell_type": "markdown",
   "metadata": {},
   "source": [
    "code to do stuff"
   ]
  },
  {
   "cell_type": "code",
   "execution_count": 12,
   "metadata": {},
   "outputs": [],
   "source": [
    "h=1920\n",
    "b=1080"
   ]
  },
  {
   "cell_type": "markdown",
   "metadata": {},
   "source": [
    "## After regression"
   ]
  },
  {
   "cell_type": "code",
   "execution_count": 13,
   "metadata": {},
   "outputs": [],
   "source": [
    "m1 = -0.5925\n",
    "m2 = 0.6077\n",
    "c1 = 865.3659\n",
    "c2 = -150.5850\n"
   ]
  },
  {
   "cell_type": "code",
   "execution_count": null,
   "metadata": {},
   "outputs": [],
   "source": [
    "def process_and_execute(json_path,drop_location):\n",
    "    with open(json_path, 'r') as f:\n",
    "        data = json.load(f)\n",
    "\n",
    "    object_list = json.loads(data['choices'][0]['message']['content'])\n",
    "\n",
    "    for obj in object_list:\n",
    "        x = int((obj['centroid']['x']/1000)*h)\n",
    "        y = int((obj['centroid']['y']/1000)*b)\n",
    "        pick_coords = mapped_coordinates(x,y,m1, c1, m2, c2)\n",
    "        pick_up_and_drop(pick_coords[0],pick_coords[1],drop_location[0], drop_location[1])\n",
    "\n",
    "    arm.move_gohome()\n",
    "    arm.disconnect()"
   ]
  },
  {
   "cell_type": "code",
   "execution_count": null,
   "metadata": {},
   "outputs": [
    {
     "name": "stdout",
     "output_type": "stream",
     "text": [
      "Moving to pick position at (260.4234, -38.76820000000001) with height 50.0\n",
      "Closing gripper to grasp the object\n",
      "Lifting the object to height 100.0\n",
      "Moving to place position at [224.1, -351.9] with height 100.0\n",
      "Lowering the object to height 50.0\n",
      "Opening gripper to release the object\n",
      "Moving back to the lift position above place location at height 100.0\n",
      "Pick and place operation completed\n",
      "Moving to pick position at (182.80589999999995, -37.552800000000005) with height 50.0\n",
      "Closing gripper to grasp the object\n",
      "Lifting the object to height 100.0\n",
      "Moving to place position at [224.1, -351.9] with height 100.0\n",
      "Lowering the object to height 50.0\n",
      "Opening gripper to release the object\n",
      "Moving back to the lift position above place location at height 100.0\n",
      "Pick and place operation completed\n",
      "Moving to pick position at (336.8559, 29.901899999999983) with height 50.0\n",
      "Closing gripper to grasp the object\n",
      "Lifting the object to height 100.0\n",
      "Moving to place position at [224.1, -351.9] with height 100.0\n",
      "Lowering the object to height 50.0\n",
      "Opening gripper to release the object\n",
      "Moving back to the lift position above place location at height 100.0\n",
      "Pick and place operation completed\n",
      "Moving to pick position at (278.79089999999997, 101.00280000000001) with height 50.0\n",
      "Closing gripper to grasp the object\n",
      "Lifting the object to height 100.0\n",
      "Moving to place position at [224.1, -351.9] with height 100.0\n",
      "Lowering the object to height 50.0\n",
      "Opening gripper to release the object\n",
      "Moving back to the lift position above place location at height 100.0\n",
      "Pick and place operation completed\n"
     ]
    },
    {
     "name": "stdout",
     "output_type": "stream",
     "text": [
      "[SDK][ERROR][2025-04-08 17:27:24][base.py:247] - - [report-socket] recv error: [WinError 10054] An existing connection was forcibly closed by the remote host\n",
      "[SDK][ERROR][2025-04-08 17:27:24][base.py:247] - - [report-socket] recv error: [WinError 10054] An existing connection was forcibly closed by the remote host\n",
      "[SDK][ERROR][2025-04-08 17:27:24][base.py:293] - - [main-socket] recv error: [WinError 10054] An existing connection was forcibly closed by the remote host\n",
      "[SDK][ERROR][2025-04-08 17:27:24][base.py:293] - - [main-socket] recv error: [WinError 10054] An existing connection was forcibly closed by the remote host\n"
     ]
    }
   ],
   "source": [
    "process_and_execute('output.json',[224.1, -351.9])"
   ]
  },
  {
   "cell_type": "code",
   "execution_count": null,
   "metadata": {},
   "outputs": [],
   "source": [
    "pick_coords = ()\n",
    "place_coords = ()"
   ]
  },
  {
   "cell_type": "code",
   "execution_count": 6,
   "metadata": {},
   "outputs": [],
   "source": [
    "h = 0\n",
    "b = 0"
   ]
  },
  {
   "cell_type": "code",
   "execution_count": 7,
   "metadata": {},
   "outputs": [
    {
     "data": {
      "text/plain": [
       "0"
      ]
     },
     "execution_count": 7,
     "metadata": {},
     "output_type": "execute_result"
    }
   ],
   "source": [
    "arm.set_position(x=260.1197065090886+h,y =-38.352730139522166+b,z = 50.0)"
   ]
  },
  {
   "cell_type": "code",
   "execution_count": null,
   "metadata": {},
   "outputs": [],
   "source": [
    "arm.set_suction_cup(False)"
   ]
  },
  {
   "cell_type": "code",
   "execution_count": null,
   "metadata": {},
   "outputs": [],
   "source": []
  }
 ],
 "metadata": {
  "kernelspec": {
   "display_name": "Python 3",
   "language": "python",
   "name": "python3"
  },
  "language_info": {
   "codemirror_mode": {
    "name": "ipython",
    "version": 3
   },
   "file_extension": ".py",
   "mimetype": "text/x-python",
   "name": "python",
   "nbconvert_exporter": "python",
   "pygments_lexer": "ipython3",
   "version": "3.12.2"
  }
 },
 "nbformat": 4,
 "nbformat_minor": 2
}
